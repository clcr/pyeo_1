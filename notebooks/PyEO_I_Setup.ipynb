{
 "cells": [
  {
   "cell_type": "markdown",
   "id": "b0c638b5-6635-438e-a460-1979451c3ac7",
   "metadata": {},
   "source": [
    "# PYEO on SEPAL Setup Notebook"
   ]
  },
  {
   "cell_type": "markdown",
   "id": "3b4be6b4-06bd-4fc8-bb7d-bb2f7070c2d0",
   "metadata": {},
   "source": [
    "**This could be on the github readme.md to avoid the Catch-22 of users needing guidance to get pyeo and sepal working**"
   ]
  },
  {
   "cell_type": "markdown",
   "id": "9a9d6053-ed15-4c31-9311-634eb285efa7",
   "metadata": {
    "tags": []
   },
   "source": [
    "# PyEO Readme_SEPAL.txt"
   ]
  },
  {
   "attachments": {},
   "cell_type": "markdown",
   "id": "8cc8def9-2f26-4481-80c6-a8c91c91ce77",
   "metadata": {},
   "source": [
    "1. Login in to your SEPAL account\n",
    "1. Press the terminal '>_' tab to open a Linux terminal\n",
    "1. Create a pyeo_home directory in your file system `mkdir pyeo_home`\n",
    "1. Move into the pyeo_home directory with `cd pyeo_home`\n",
    "1. Check that 'Git' is installed on your machine by entering `Git -h` in your terminal.\n",
    "    1. If not, install Git by following the install instructions on https://git-scm.com/book/en/v2/Getting-Started-Installing-Git\n",
    "1. Clone a copy of pyeo into your pyeo_home directory `git clone https://github.com/clcr/pyeo_1.git`\n",
    "1. Press the spanner shaped tab and click to open JupyterLab\n",
    "1. When JupyterLab is running navigate to your pyeo_home directory using the panel on the left hand side and then open the 'notebooks' subdirectory\n",
    "1. Double click the file `PyEO_1_Setup.ipynb` and follow the contained instructions to setup of the PyEO environment "
   ]
  },
  {
   "cell_type": "markdown",
   "id": "f1a3651b-4116-42f5-806a-8ca342b05140",
   "metadata": {},
   "source": [
    "# <a id='toc1_'></a>[Session 0](#toc0_)"
   ]
  },
  {
   "cell_type": "markdown",
   "id": "f7ed4eb1-6690-40c0-b3af-3c762fc52250",
   "metadata": {
    "tags": []
   },
   "source": [
    "## Pre-requisites"
   ]
  },
  {
   "cell_type": "markdown",
   "id": "ac9e0a4c-e78c-4a75-85f3-47c59ff9cff4",
   "metadata": {},
   "source": [
    "This tutorial assumes you have followed the initial instructions in Readme_SEPAL.txt and have a folder structure like the schematic diagram in the cell below:"
   ]
  },
  {
   "cell_type": "code",
   "execution_count": null,
   "id": "2c46a811-298b-466b-bd9d-49cb90943a72",
   "metadata": {},
   "outputs": [],
   "source": [
    "# pyeo_home\n",
    "    # sepal_user\n",
    "        # pyeo_home_directory\n",
    "            # pyeo_1\n",
    "                # notebooks\n",
    "                # pyeo_1"
   ]
  },
  {
   "cell_type": "markdown",
   "id": "12e77a29-3304-4bc5-9604-33a32c9c52da",
   "metadata": {},
   "source": [
    "## Installation and Setup"
   ]
  },
  {
   "cell_type": "markdown",
   "id": "7350f77b-68cb-4d6b-8554-04024515c527",
   "metadata": {},
   "source": [
    "### <a id='toc1_1_'></a>[Install Miniconda](#toc0_)"
   ]
  },
  {
   "cell_type": "markdown",
   "id": "311d5ab6-ee9c-476b-b763-a3e0a250e03a",
   "metadata": {},
   "source": [
    "1. **Ensure that you are running a `t2` instance on SEPAL before proceding with these steps.**\n",
    "\n",
    "1. Within the SEPAL Terminal, type the following to download the latest version of Miniconda, and then install it:\n",
    "    - `wget https://repo.anaconda.com/miniconda/Miniconda3-latest-Linux-x86_64.sh -O ~/miniconda.sh`\n",
    "    - `bash ~/miniconda.sh -p $HOME/miniconda`\n",
    "    - Follow the installation prompts\n",
    "    - The installer should ask for confirmation of the Miniconda installation directory, it should be: `/home/sepal-user/miniconda3`\n",
    "    - After installing, the installer will ask if you want to initialise conda, enter: `yes`\n",
    "1. Restart the SEPAL Terminal for the Conda installation to take effect.\n",
    "    - You should now see the `(base)` prefix to your SEPAL path in the Terminal."
   ]
  },
  {
   "cell_type": "markdown",
   "id": "58e7a14f-0ba6-4109-afdf-0a3eb428a538",
   "metadata": {},
   "source": [
    "### <a id='toc1_2_'></a>[Create a Conda Environment for PyEO](#toc0_)"
   ]
  },
  {
   "attachments": {},
   "cell_type": "markdown",
   "id": "f17ffa45-0b21-4048-b653-999f10bfbbb0",
   "metadata": {},
   "source": [
    "1. Return to the terminal by pressing the '>_' tab and navigate to the pyeo folder within your pyeo_home directory:    \n",
    "    - `cd pyeo_home/pyeo_1/pyeo_1`  \n",
    "1. Create a conda environment with the packages required by PyEO installed \n",
    "    - `conda env create --file environment.yml --name pyeo_env`\n",
    "        - This process will take 15 - 20 minutes and the terminal will appear unresponsive, but it is working away in the background!\n",
    "        - If the conda environment creation fails because of *Errno16: device or resource busy: \"./nfs\"*, run the environment creation again. This is a Linux OS error and not a pyeo installation error.\n",
    "1. Activate the conda environment\n",
    "    - `conda activate pyeo_env`\n",
    "    - This will change the command prompt to be prefixed with (pyeo_env) to show the envionment is activated\n",
    "3. Install pyeo into the conda environment, so it can be imported into Python code\n",
    "    - `python -m pip install -e .`   \n",
    "4. Register the Python interpreter in the conda environment as an ipykernel for Jupyter Notebook    \n",
    "    - `python -m ipykernel install --user --name pyeo_env`\n",
    "5. Select the pyeo_env environment to be active in the notebook from the drop list in the top right corner\n",
    "    - Note: If the jupyter notebook cannot see your environment, restart the jupyter notebook and kernel."
   ]
  },
  {
   "cell_type": "markdown",
   "id": "3284db6d-3842-485c-b3e8-cec0cffa08bd",
   "metadata": {},
   "source": [
    "### Check PyEO Installation"
   ]
  },
  {
   "cell_type": "code",
   "execution_count": 1,
   "id": "9beb6ba3-9d41-4d6f-89f9-7d111d42aba7",
   "metadata": {
    "tags": []
   },
   "outputs": [],
   "source": [
    "import pyeo_1.classification"
   ]
  },
  {
   "cell_type": "markdown",
   "id": "5b9a726c-3e03-44aa-b248-8229f48ea595",
   "metadata": {},
   "source": [
    "### <a id='toc1_3_'></a>[Configure GDAL and PROJ_LIB Paths](#toc0_)"
   ]
  },
  {
   "cell_type": "markdown",
   "id": "b53f9c6a-7d45-4580-9a22-eb2e31c362f0",
   "metadata": {},
   "source": [
    "Because a GDAL installation already exists on SEPAL (but that installation is too new for pyeo_1), we need to point Python to use the correct paths for GDAL and PROJ_LIB.  \n",
    "If you've followed the instructions above, your respective libraries will be located at:"
   ]
  },
  {
   "cell_type": "code",
   "execution_count": 2,
   "id": "0f536f85-302e-4364-b551-83a2575a56c3",
   "metadata": {
    "tags": []
   },
   "outputs": [
    {
     "data": {
      "text/plain": [
       "PosixPath('/home/sepal-user')"
      ]
     },
     "execution_count": 2,
     "metadata": {},
     "output_type": "execute_result"
    }
   ],
   "source": [
    "from pathlib import Path\n",
    "home = Path.home()\n",
    "home"
   ]
  },
  {
   "cell_type": "code",
   "execution_count": null,
   "id": "098bc4c8-123a-4105-85a9-9c9ae3f387ed",
   "metadata": {},
   "outputs": [],
   "source": [
    "# TODO: replace home path for GDAL_DATA and PROJ_LIB"
   ]
  },
  {
   "cell_type": "code",
   "execution_count": null,
   "id": "7490078e-770c-46a3-b843-29a33417733f",
   "metadata": {
    "tags": []
   },
   "outputs": [],
   "source": [
    "import os\n",
    "os.environ[\"GDAL_DATA\"] = \"/home/sepal-user/miniconda3/envs/pyeo_1_env/share/gdal\"\n",
    "os.environ[\"PROJ_LIB\"] = \"/home/sepal-user/miniconda3/envs/pyeo_1_env/share/proj\""
   ]
  },
  {
   "cell_type": "markdown",
   "id": "b53ecc76-9033-4fb4-9f17-8eb9fb48acdf",
   "metadata": {},
   "source": [
    "### <a id='toc1_4_'></a>[Install Sen2Cor](#toc0_)"
   ]
  },
  {
   "cell_type": "markdown",
   "id": "707ff92d-a488-4f60-88a7-2529d320697e",
   "metadata": {},
   "source": [
    "#### Linux/SEPAL"
   ]
  },
  {
   "cell_type": "markdown",
   "id": "9ad40bbe-6fb0-479c-a324-693a8bfe2ad4",
   "metadata": {},
   "source": [
    "These instructions apply to Linux OS, which also applies to SEPAL.  \n",
    "1. First, check whether Conda is activated, if so, deactivate Conda by typing:\n",
    "    - `conda deactivate`  \n",
    "    \n",
    "To install Sen2Cor:  \n",
    "1. Within the Terminal, navigate to the folder *pyeo_1_tutorials* by typing:\n",
    "    - `cd pyeo_1_tutorials`\n",
    "    \n",
    "1. Within the Terminal:\n",
    "    - `wget https://step.esa.int/thirdparties/sen2cor/2.11.0/Sen2Cor-02.11.00-Linux64.run`\n",
    "    - `chmod +x Sen2Cor-02.11.00-Linux64.run`\n",
    "    - `./Sen2Cor-02.11.00-Linux64.run`"
   ]
  },
  {
   "cell_type": "markdown",
   "id": "1838636e-04e2-4ac2-8081-bddd455765fa",
   "metadata": {},
   "source": [
    "## Next Step\n",
    "\n",
    "Now that PyEO and its environment are setup please open the next training file: PyEO_1_Master_Model_Training.ipynb and continue your journey.."
   ]
  },
  {
   "cell_type": "markdown",
   "id": "1cfb8b5b-4e49-4213-b6f4-426380757fa1",
   "metadata": {},
   "source": [
    "## "
   ]
  }
 ],
 "metadata": {
  "kernelspec": {
   "display_name": "pyeo_1_env",
   "language": "python",
   "name": "python3"
  },
  "language_info": {
   "codemirror_mode": {
    "name": "ipython",
    "version": 3
   },
   "file_extension": ".py",
   "mimetype": "text/x-python",
   "name": "python",
   "nbconvert_exporter": "python",
   "pygments_lexer": "ipython3",
   "version": "3.10.4"
  }
 },
 "nbformat": 4,
 "nbformat_minor": 5
}
