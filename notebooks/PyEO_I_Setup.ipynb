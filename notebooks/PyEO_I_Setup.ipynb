{
 "cells": [
  {
   "cell_type": "markdown",
   "id": "b0c638b5-6635-438e-a460-1979451c3ac7",
   "metadata": {},
   "source": [
    "# PYEO on SEPAL Setup Notebook"
   ]
  },
  {
   "cell_type": "markdown",
   "id": "3b4be6b4-06bd-4fc8-bb7d-bb2f7070c2d0",
   "metadata": {},
   "source": [
    "**This could be on the github readme.md to avoid the Catch-22 of users needing guidance to get pyeo and sepal working**"
   ]
  },
  {
   "cell_type": "markdown",
   "id": "12e77a29-3304-4bc5-9604-33a32c9c52da",
   "metadata": {},
   "source": [
    "## Conda Installation and Setup"
   ]
  },
  {
   "cell_type": "markdown",
   "id": "f696b4fd-ccfb-45a0-8e3e-93048d6c47c2",
   "metadata": {},
   "source": [
    "1. Upload the `pyeo` folder to a directory under `/home/sepal-user/`.  \n",
    "\n",
    "1. Now, within the SEPAL Terminal, navigate to the copied pyeo folder by typing:    \n",
    "    - `cd /home/sepal-user/pyeo`  \n",
    "\n",
    "2. If the conda environment creation fails because of *Errno16: device or resource busy: \"./nfs\"*, run the environment creation again. This is a Linux/SEPAL OS error and not a pyeo installation error.  \n",
    "\n",
    "    - `conda env create --file environment.yml --name pyeo_env`  \n",
    "    - `conda activate pyeo_env`  \n",
    "\n",
    "3. This command below installs pyeo within the conda environment, so it can be imported.  \n",
    "    - `python -m pip install -e .`   \n",
    "\n",
    "4. The command below registers the Python interpreter in the conda environment as an ipykernel. If after running this command and the jupyter notebook cannot see your environment, restart the jupyter notebook and kernel.   \n",
    "    - `python -m ipykernel install --user --name pyeo_env`"
   ]
  },
  {
   "cell_type": "markdown",
   "id": "03184f36-b289-4d0d-bf7b-a28f5239a519",
   "metadata": {},
   "source": [
    "## Installing Sen2Cor"
   ]
  },
  {
   "cell_type": "markdown",
   "id": "707ff92d-a488-4f60-88a7-2529d320697e",
   "metadata": {},
   "source": [
    "### Linux/SEPAL"
   ]
  },
  {
   "cell_type": "markdown",
   "id": "7331f5aa-7a15-418c-bd3c-efd03e4f00bd",
   "metadata": {},
   "source": [
    "These instructions apply to Linux OS, which also applies to SEPAL.  \n",
    "To install Sen2Cor:  \n",
    "1. Head to https://step.esa.int/main/snap-supported-plugins/sen2cor/ and download the latest installer, for the purposes of this tutorial - this is Sen2Cor-02.09.00-Linux64.run\n",
    "2. Within the Terminal, navigate to where you downloaded the .run file.\n",
    "3. Then, move the .run file to your user directory, by typing the code below. For this tutorial, our user directory is /home/sepal-user/pyeo_1:\n",
    "    - `mv Sen2Cor-02.09.00-Linux64.run /home/sepal-user/pyeo_1`\n",
    "3. Then type:\n",
    "    - `run Sen2Cor-02.09.00-Linux64.run`\n",
    "4. Once this installation is complete, make sure to update your .ini file with the path to the Sen2Cor L2A conversion script e.g. `path=/home/sepal-user/pyeo_1/Sen2Cor-02.09.00-Linux64/bin/L2A_Process`"
   ]
  },
  {
   "cell_type": "markdown",
   "id": "1cfb8b5b-4e49-4213-b6f4-426380757fa1",
   "metadata": {},
   "source": [
    "## "
   ]
  }
 ],
 "metadata": {
  "kernelspec": {
   "display_name": "pyeo_prod_0_8_0_env",
   "language": "python",
   "name": "python3"
  },
  "language_info": {
   "codemirror_mode": {
    "name": "ipython",
    "version": 3
   },
   "file_extension": ".py",
   "mimetype": "text/x-python",
   "name": "python",
   "nbconvert_exporter": "python",
   "pygments_lexer": "ipython3",
   "version": "3.10.4"
  }
 },
 "nbformat": 4,
 "nbformat_minor": 5
}
